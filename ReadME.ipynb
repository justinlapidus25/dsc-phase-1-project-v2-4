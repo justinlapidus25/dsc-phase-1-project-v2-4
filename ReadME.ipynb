{
 "cells": [
  {
   "cell_type": "markdown",
   "id": "fdb04485",
   "metadata": {},
   "source": [
    "# Project-1\n",
    " <img width=\"260\" alt=\"Screen Shot 2023-05-12 at 9 26 38 AM\" src=\"https://github.com/justinlapidus25/Project-1/assets/130884190/dfbe76f5-448e-48bf-8a9c-eda332266344\">\n",
    "\n",
    "The Task:\n",
    "Watching as the competition has grown with the emergence of streaming and pandemic downtime, Microsoft has been tasked with seeing if funding a new movie studio would be financially stimulating. In order to reach this conclusion, Microsft wants Data Scientists to analyze trends seen in other studios to determine what method would result in the greatest gross profit. In order to have a direction to proceed Microsoft would like to know what genres would be successful, what studios have earned to most income, as well as what runtime produces the best overall movies for Microsoft.\n",
    "\n",
    "Data:\n",
    "\n",
    "Rotten Tomatoes: Rotten Tomatoes and the Tomatometer score are the world's most trusted recommendation resources for quality entertainment. As the leading online aggregator of movie and TV show reviews from critics, we provide fans with a comprehensive guide to what's Fresh – and what's Rotten – in theaters and at home.\n",
    "\n",
    "IMDB: an online database containing information and statistics about movies, TV shows and video games as well as actors, directors and other film industry professionals\n",
    "\n",
    "The Numbers: The Numbers provides detailed movie financial analysis, including box office, DVD, and Blu-ray sales reports, and release schedules.\n",
    "\n",
    "Results:\n",
    "\n",
    "The first graph shows the top-producing movie studios. The graph depicts the top earning studios and as a result, we were able to extract the top five selling studios.\n",
    "\n",
    " <img width=\"424\" alt=\"Screen Shot 2023-05-12 at 9 28 50 AM\" src=\"https://github.com/justinlapidus25/Project-1/assets/130884190/db90596b-9105-43cb-8df1-4a0ef63056df\">\n",
    " \n",
    " The second graph shows the distribution of genres produced by the top producing movie studios. This data is skewed with the understanding that Sum and P/DW success in the action genre is skewed by the inclusion of animated action movies, as well as the twilight series. \n",
    " \n",
    "<img width=\"633\" alt=\"Screen Shot 2023-05-11 at 10 31 21 AM\" src=\"https://github.com/justinlapidus25/Project-1/assets/130884190/dc629d62-5c04-4aeb-ab0b-3a6853f338bd\">\n",
    "\n",
    " The third graph took the mean gross profit of action movies and compared them to runtime. In order to do this we first assgined the term succesful as movies that earned more than the mean gross profit, while unsucccesful are movies that earned less than the mean.  \n",
    "\n",
    "<img width=\"416\" alt=\"Screen Shot 2023-05-12 at 9 28 38 AM\" src=\"https://github.com/justinlapidus25/Project-1/assets/130884190/1d272ada-2e1f-49d4-9067-32365b299c46\">\n",
    "\n",
    " The fourth graph took the mean gross profit of action movies and compared them to runtime. In order to do this we first assgined the term succesful as movies that earned more than the mean gross profit, while unsucccesful are movies that earned less than the mean.  \n",
    "\n",
    "<img width=\"674\" alt=\"Screen Shot 2023-05-11 at 12 18 42 PM\" src=\"https://github.com/justinlapidus25/Project-1/assets/130884190/d419630c-4f5f-474b-8184-9c1e86e49050\">\n",
    "\n",
    " The Last graph looked at the runtime of successful and unsuccessful action movies compared to their runtime. \n",
    "\n",
    "<img width=\"793\" alt=\"Screen Shot 2023-05-11 at 12 18 36 PM\" src=\"https://github.com/justinlapidus25/Project-1/assets/130884190/820a3c31-cdd5-4752-807b-09655efdcc2b\">\n",
    "\n",
    "Conclusion:\n",
    "\n",
    "The data has resulted in the following conclusion; ceate a movie similar to those created by Warner Brothers, Buena Vista International,  or Paramount Pictures.\n",
    "The movie will earn the most if it is an action film with a run time of around 118-141 minutes.\n",
    "\n"
   ]
  },
  {
   "cell_type": "code",
   "execution_count": null,
   "id": "1a9f1ba5",
   "metadata": {},
   "outputs": [],
   "source": []
  }
 ],
 "metadata": {
  "kernelspec": {
   "display_name": "Python 3 (ipykernel)",
   "language": "python",
   "name": "python3"
  },
  "language_info": {
   "codemirror_mode": {
    "name": "ipython",
    "version": 3
   },
   "file_extension": ".py",
   "mimetype": "text/x-python",
   "name": "python",
   "nbconvert_exporter": "python",
   "pygments_lexer": "ipython3",
   "version": "3.10.9"
  }
 },
 "nbformat": 4,
 "nbformat_minor": 5
}
